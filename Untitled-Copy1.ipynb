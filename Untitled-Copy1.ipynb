{
 "cells": [
  {
   "cell_type": "code",
   "execution_count": 1,
   "metadata": {},
   "outputs": [],
   "source": [
    "import sys, os, time, re\n",
    "from glob import glob\n",
    "from timeit import default_timer as timer\n",
    "from humanfriendly import format_timespan"
   ]
  },
  {
   "cell_type": "code",
   "execution_count": 2,
   "metadata": {},
   "outputs": [],
   "source": [
    "from docx import Document"
   ]
  },
  {
   "cell_type": "code",
   "execution_count": 3,
   "metadata": {},
   "outputs": [],
   "source": [
    "data = []"
   ]
  },
  {
   "cell_type": "code",
   "execution_count": 4,
   "metadata": {},
   "outputs": [
    {
     "data": {
      "text/plain": [
       "135"
      ]
     },
     "execution_count": 4,
     "metadata": {},
     "output_type": "execute_result"
    }
   ],
   "source": [
    "len(glob('data/LSF/*'))"
   ]
  },
  {
   "cell_type": "code",
   "execution_count": 5,
   "metadata": {},
   "outputs": [
    {
     "name": "stdout",
     "output_type": "stream",
     "text": [
      "130 documents loaded in 3.41 seconds\n"
     ]
    }
   ],
   "source": [
    "start = timer()\n",
    "docx_filenames = glob('data/LSF/*.docx')\n",
    "for fname in docx_filenames:\n",
    "    document = Document(fname)\n",
    "    data.append({\n",
    "        'fname': fname,\n",
    "        'document': document\n",
    "    })\n",
    "print(\"{} documents loaded in {}\".format(len(data), format_timespan(timer()-start)))"
   ]
  },
  {
   "cell_type": "code",
   "execution_count": 7,
   "metadata": {},
   "outputs": [
    {
     "name": "stdout",
     "output_type": "stream",
     "text": [
      "7.23 seconds\n"
     ]
    }
   ],
   "source": [
    "start = timer()\n",
    "for i, d in enumerate(data):\n",
    "    document = d['document']\n",
    "    interviewee_match = []\n",
    "    for p in document.paragraphs:\n",
    "        t = p.text\n",
    "        if t.startswith(\"INTERVIEWEE:\"):\n",
    "            interviewee_match.append(t)\n",
    "    d['interviewee_match'] = interviewee_match\n",
    "print(format_timespan(timer()-start))"
   ]
  },
  {
   "cell_type": "code",
   "execution_count": 8,
   "metadata": {},
   "outputs": [
    {
     "name": "stdout",
     "output_type": "stream",
     "text": [
      "126 documents have interviewee_match\n",
      "1 documents have multiple match\n"
     ]
    }
   ],
   "source": [
    "num_match = 0\n",
    "num_mult = 0\n",
    "for d in data:\n",
    "    m = d.get('interviewee_match')\n",
    "    if m:\n",
    "        num_match += 1\n",
    "        if len(m) > 1:\n",
    "            num_mult += 1\n",
    "print(\"{} documents have interviewee_match\".format(num_match))\n",
    "print(\"{} documents have multiple match\".format(num_mult))"
   ]
  },
  {
   "cell_type": "code",
   "execution_count": 9,
   "metadata": {},
   "outputs": [],
   "source": [
    "num_match = 0\n",
    "num_mult = 0\n",
    "for d in data:\n",
    "    m = d.get('interviewee_match')\n",
    "    if m:\n",
    "        num_match += 1\n",
    "        if len(m) > 1:\n",
    "            break"
   ]
  },
  {
   "cell_type": "code",
   "execution_count": 10,
   "metadata": {},
   "outputs": [
    {
     "data": {
      "text/plain": [
       "'data/LSF/eletr_s_AE-GP.docx'"
      ]
     },
     "execution_count": 10,
     "metadata": {},
     "output_type": "execute_result"
    }
   ],
   "source": [
    "d['fname']"
   ]
  },
  {
   "cell_type": "code",
   "execution_count": 11,
   "metadata": {},
   "outputs": [],
   "source": [
    "no_match = []\n",
    "for d in data:\n",
    "    m = d.get('interviewee_match')\n",
    "    if not m:\n",
    "        no_match.append(d)"
   ]
  },
  {
   "cell_type": "code",
   "execution_count": 13,
   "metadata": {},
   "outputs": [
    {
     "data": {
      "text/plain": [
       "[{'fname': 'data/LSF/schleifer_l_and_yancopoulos_g_AE.docx',\n",
       "  'document': <docx.document.Document at 0x7ff3b9912ee8>,\n",
       "  'interviewee_match': []},\n",
       " {'fname': 'data/LSF/rosenkranz_r_and_whiting_r_AE.docx',\n",
       "  'document': <docx.document.Document at 0x7ff3b989fb88>,\n",
       "  'interviewee_match': []},\n",
       " {'fname': 'data/LSF/Termeer FINAL 5.7.13.docx',\n",
       "  'document': <docx.document.Document at 0x7ff3b97d7e58>,\n",
       "  'interviewee_match': []},\n",
       " {'fname': 'data/LSF/clark_s_0026_AE.docx',\n",
       "  'document': <docx.document.Document at 0x7ff3b96d5828>,\n",
       "  'interviewee_match': []}]"
      ]
     },
     "execution_count": 13,
     "metadata": {},
     "output_type": "execute_result"
    }
   ],
   "source": [
    "no_match"
   ]
  },
  {
   "cell_type": "code",
   "execution_count": 24,
   "metadata": {},
   "outputs": [],
   "source": [
    "def search_for_term(d, term, match_case=True):\n",
    "    _d = d.copy()\n",
    "    document = _d.get('document')\n",
    "    search_result = []\n",
    "    if match_case is False:\n",
    "        term = term.lower()\n",
    "    for i, p in enumerate(document.paragraphs):\n",
    "        text = p.text\n",
    "        if match_case is False:\n",
    "            text = text.lower()\n",
    "        if term in text:\n",
    "            search_result.append({\n",
    "                'paragraph_index': i,\n",
    "                'text': p.text\n",
    "            })\n",
    "            \n",
    "    this_result = {\n",
    "        'search_term': term,\n",
    "        'result': search_result\n",
    "    }\n",
    "    if 'search_results' in _d:\n",
    "        _d['search_results'].append(this_result)\n",
    "    else:\n",
    "        _d['search_results'] = [this_result]\n",
    "    return _d"
   ]
  },
  {
   "cell_type": "code",
   "execution_count": 25,
   "metadata": {},
   "outputs": [
    {
     "name": "stdout",
     "output_type": "stream",
     "text": [
      "7.76 seconds\n"
     ]
    }
   ],
   "source": [
    "start = timer()\n",
    "genentech_search = []\n",
    "term = 'genentech'\n",
    "for d in data:\n",
    "    r = search_for_term(d, term, match_case=False)\n",
    "    for search_result in r.get('search_results'):\n",
    "        if search_result.get('search_term') == term:\n",
    "            if search_result.get('result'):\n",
    "                genentech_search.append(r)\n",
    "                continue\n",
    "print(format_timespan(timer()-start))"
   ]
  },
  {
   "cell_type": "code",
   "execution_count": 27,
   "metadata": {},
   "outputs": [
    {
     "data": {
      "text/plain": [
       "108"
      ]
     },
     "execution_count": 27,
     "metadata": {},
     "output_type": "execute_result"
    }
   ],
   "source": [
    "len(genentech_search)"
   ]
  },
  {
   "cell_type": "code",
   "execution_count": null,
   "metadata": {},
   "outputs": [],
   "source": []
  }
 ],
 "metadata": {
  "kernelspec": {
   "display_name": "science_history_institute_venv",
   "language": "python",
   "name": "science_history_institute_venv"
  },
  "language_info": {
   "codemirror_mode": {
    "name": "ipython",
    "version": 3
   },
   "file_extension": ".py",
   "mimetype": "text/x-python",
   "name": "python",
   "nbconvert_exporter": "python",
   "pygments_lexer": "ipython3",
   "version": "3.6.4"
  }
 },
 "nbformat": 4,
 "nbformat_minor": 2
}
